{
  "metadata": {
    "kernelspec": {
      "language": "python",
      "display_name": "Python 3",
      "name": "python3"
    },
    "language_info": {
      "name": "python",
      "version": "3.10.13",
      "mimetype": "text/x-python",
      "codemirror_mode": {
        "name": "ipython",
        "version": 3
      },
      "pygments_lexer": "ipython3",
      "nbconvert_exporter": "python",
      "file_extension": ".py"
    },
    "kaggle": {
      "accelerator": "none",
      "dataSources": [
        {
          "sourceId": 74935,
          "sourceType": "datasetVersion",
          "datasetId": 42674
        }
      ],
      "dockerImageVersionId": 30732,
      "isInternetEnabled": true,
      "language": "python",
      "sourceType": "notebook",
      "isGpuEnabled": false
    },
    "colab": {
      "name": "Customer Segmentation with K-Means Clustering",
      "provenance": []
    }
  },
  "nbformat_minor": 0,
  "nbformat": 4,
  "cells": [
    {
      "source": [
        "\n",
        "# IMPORTANT: RUN THIS CELL IN ORDER TO IMPORT YOUR KAGGLE DATA SOURCES\n",
        "# TO THE CORRECT LOCATION (/kaggle/input) IN YOUR NOTEBOOK,\n",
        "# THEN FEEL FREE TO DELETE THIS CELL.\n",
        "# NOTE: THIS NOTEBOOK ENVIRONMENT DIFFERS FROM KAGGLE'S PYTHON\n",
        "# ENVIRONMENT SO THERE MAY BE MISSING LIBRARIES USED BY YOUR\n",
        "# NOTEBOOK.\n",
        "\n",
        "import os\n",
        "import sys\n",
        "from tempfile import NamedTemporaryFile\n",
        "from urllib.request import urlopen\n",
        "from urllib.parse import unquote, urlparse\n",
        "from urllib.error import HTTPError\n",
        "from zipfile import ZipFile\n",
        "import tarfile\n",
        "import shutil\n",
        "\n",
        "CHUNK_SIZE = 40960\n",
        "DATA_SOURCE_MAPPING = 'customer-segmentation-tutorial-in-python:https%3A%2F%2Fstorage.googleapis.com%2Fkaggle-data-sets%2F42674%2F74935%2Fbundle%2Farchive.zip%3FX-Goog-Algorithm%3DGOOG4-RSA-SHA256%26X-Goog-Credential%3Dgcp-kaggle-com%2540kaggle-161607.iam.gserviceaccount.com%252F20240723%252Fauto%252Fstorage%252Fgoog4_request%26X-Goog-Date%3D20240723T151135Z%26X-Goog-Expires%3D259200%26X-Goog-SignedHeaders%3Dhost%26X-Goog-Signature%3D1531b0577452206712caf812e23c4bc2efd3f56044fce136578580b9617dc4d9340c895c1e2906e4825ac9892885676bee5722a06ab1802d3d989acb72359b6be8b4e8fa25504778b067c9c0ccce9104d423108dc5c69a50f8e6c1e628f6c8b0019ad8f535aade86bcf6758850668c3ee17fbdf2f8e04cb4da2acbb7bca299fb264486c0760f130905287b64c3161a7940bcf209d1d68971374eb18c0b097f6e611a42c8c94c1660d9be58afa43e51de51d1e608a0d9041012194a4ab703e9c9ad6f906912dc24a9e36624e3c70cac159965e7779cb9fcb955755c8e30f9ddedc1b941cf7dd6d432235929e00b7d2213fbed6307970d23560bb9f835ab1ccc0d'\n",
        "\n",
        "KAGGLE_INPUT_PATH='/kaggle/input'\n",
        "KAGGLE_WORKING_PATH='/kaggle/working'\n",
        "KAGGLE_SYMLINK='kaggle'\n",
        "\n",
        "!umount /kaggle/input/ 2> /dev/null\n",
        "shutil.rmtree('/kaggle/input', ignore_errors=True)\n",
        "os.makedirs(KAGGLE_INPUT_PATH, 0o777, exist_ok=True)\n",
        "os.makedirs(KAGGLE_WORKING_PATH, 0o777, exist_ok=True)\n",
        "\n",
        "try:\n",
        "  os.symlink(KAGGLE_INPUT_PATH, os.path.join(\"..\", 'input'), target_is_directory=True)\n",
        "except FileExistsError:\n",
        "  pass\n",
        "try:\n",
        "  os.symlink(KAGGLE_WORKING_PATH, os.path.join(\"..\", 'working'), target_is_directory=True)\n",
        "except FileExistsError:\n",
        "  pass\n",
        "\n",
        "for data_source_mapping in DATA_SOURCE_MAPPING.split(','):\n",
        "    directory, download_url_encoded = data_source_mapping.split(':')\n",
        "    download_url = unquote(download_url_encoded)\n",
        "    filename = urlparse(download_url).path\n",
        "    destination_path = os.path.join(KAGGLE_INPUT_PATH, directory)\n",
        "    try:\n",
        "        with urlopen(download_url) as fileres, NamedTemporaryFile() as tfile:\n",
        "            total_length = fileres.headers['content-length']\n",
        "            print(f'Downloading {directory}, {total_length} bytes compressed')\n",
        "            dl = 0\n",
        "            data = fileres.read(CHUNK_SIZE)\n",
        "            while len(data) > 0:\n",
        "                dl += len(data)\n",
        "                tfile.write(data)\n",
        "                done = int(50 * dl / int(total_length))\n",
        "                sys.stdout.write(f\"\\r[{'=' * done}{' ' * (50-done)}] {dl} bytes downloaded\")\n",
        "                sys.stdout.flush()\n",
        "                data = fileres.read(CHUNK_SIZE)\n",
        "            if filename.endswith('.zip'):\n",
        "              with ZipFile(tfile) as zfile:\n",
        "                zfile.extractall(destination_path)\n",
        "            else:\n",
        "              with tarfile.open(tfile.name) as tarfile:\n",
        "                tarfile.extractall(destination_path)\n",
        "            print(f'\\nDownloaded and uncompressed: {directory}')\n",
        "    except HTTPError as e:\n",
        "        print(f'Failed to load (likely expired) {download_url} to path {destination_path}')\n",
        "        continue\n",
        "    except OSError as e:\n",
        "        print(f'Failed to load {download_url} to path {destination_path}')\n",
        "        continue\n",
        "\n",
        "print('Data source import complete.')\n"
      ],
      "metadata": {
        "id": "_jz0IbuTJetX"
      },
      "cell_type": "code",
      "outputs": [],
      "execution_count": null
    },
    {
      "cell_type": "markdown",
      "source": [
        "**Dataset:** [/kaggle/input/customer-segmentation-tutorial-in-python/Mall_Customers.csv](http://)"
      ],
      "metadata": {
        "id": "6CcFIOt6Jete"
      }
    },
    {
      "cell_type": "markdown",
      "source": [
        "> # **Importing the Modules**"
      ],
      "metadata": {
        "id": "JYNzFJdZJete"
      }
    },
    {
      "cell_type": "code",
      "source": [
        "# Importing the modules\n",
        "import pandas as pd\n",
        "import numpy as np\n",
        "from sklearn.model_selection import train_test_split\n",
        "from sklearn.cluster import KMeans\n",
        "from sklearn.preprocessing import StandardScaler\n",
        "from sklearn.metrics import silhouette_score\n",
        "import matplotlib.pyplot as plt\n",
        "import warnings\n",
        "warnings.filterwarnings('ignore')"
      ],
      "metadata": {
        "execution": {
          "iopub.status.busy": "2024-06-11T08:16:58.447212Z",
          "iopub.execute_input": "2024-06-11T08:16:58.447688Z",
          "iopub.status.idle": "2024-06-11T08:16:58.454867Z",
          "shell.execute_reply.started": "2024-06-11T08:16:58.447654Z",
          "shell.execute_reply": "2024-06-11T08:16:58.453459Z"
        },
        "trusted": true,
        "id": "JR38ErC_Jete"
      },
      "execution_count": null,
      "outputs": []
    },
    {
      "cell_type": "markdown",
      "source": [
        "> # **Loading and understanding the dataset**"
      ],
      "metadata": {
        "id": "FPW01wpcJetf"
      }
    },
    {
      "cell_type": "code",
      "source": [
        "# Loading and understnading the dataset\n",
        "\n",
        "df = pd.read_csv('/kaggle/input/customer-segmentation-tutorial-in-python/Mall_Customers.csv')\n",
        "df.head()"
      ],
      "metadata": {
        "execution": {
          "iopub.status.busy": "2024-06-11T08:16:58.459703Z",
          "iopub.execute_input": "2024-06-11T08:16:58.460583Z",
          "iopub.status.idle": "2024-06-11T08:16:58.480309Z",
          "shell.execute_reply.started": "2024-06-11T08:16:58.460548Z",
          "shell.execute_reply": "2024-06-11T08:16:58.478899Z"
        },
        "trusted": true,
        "id": "_p2YWWiZJetf"
      },
      "execution_count": null,
      "outputs": []
    },
    {
      "cell_type": "code",
      "source": [
        "# To get last 5 rows of the dataset\n",
        "df.tail()"
      ],
      "metadata": {
        "execution": {
          "iopub.status.busy": "2024-06-11T08:16:58.482369Z",
          "iopub.execute_input": "2024-06-11T08:16:58.482736Z",
          "iopub.status.idle": "2024-06-11T08:16:58.497184Z",
          "shell.execute_reply.started": "2024-06-11T08:16:58.482707Z",
          "shell.execute_reply": "2024-06-11T08:16:58.496097Z"
        },
        "trusted": true,
        "id": "P12xdrD7Jetf"
      },
      "execution_count": null,
      "outputs": []
    },
    {
      "cell_type": "code",
      "source": [
        "#To print any 10 random rows of the dataset\n",
        "df.sample(10)"
      ],
      "metadata": {
        "execution": {
          "iopub.status.busy": "2024-06-11T08:16:58.4984Z",
          "iopub.execute_input": "2024-06-11T08:16:58.498761Z",
          "iopub.status.idle": "2024-06-11T08:16:58.518668Z",
          "shell.execute_reply.started": "2024-06-11T08:16:58.498733Z",
          "shell.execute_reply": "2024-06-11T08:16:58.517251Z"
        },
        "trusted": true,
        "id": "7rHTNKkbJetf"
      },
      "execution_count": null,
      "outputs": []
    },
    {
      "cell_type": "code",
      "source": [
        "# Display basic information about the DataFrame\n",
        "print(\"DataFrame Info:\")\n",
        "print(df.info())"
      ],
      "metadata": {
        "execution": {
          "iopub.status.busy": "2024-06-11T08:16:58.521699Z",
          "iopub.execute_input": "2024-06-11T08:16:58.522054Z",
          "iopub.status.idle": "2024-06-11T08:16:58.536225Z",
          "shell.execute_reply.started": "2024-06-11T08:16:58.522026Z",
          "shell.execute_reply": "2024-06-11T08:16:58.534743Z"
        },
        "trusted": true,
        "id": "HOHbexjuJetf"
      },
      "execution_count": null,
      "outputs": []
    },
    {
      "cell_type": "code",
      "source": [
        "# Generate summary statistics of the numerical columns in the DataFrame\n",
        "print(df.describe())"
      ],
      "metadata": {
        "execution": {
          "iopub.status.busy": "2024-06-11T08:16:58.537756Z",
          "iopub.execute_input": "2024-06-11T08:16:58.538212Z",
          "iopub.status.idle": "2024-06-11T08:16:58.563253Z",
          "shell.execute_reply.started": "2024-06-11T08:16:58.538173Z",
          "shell.execute_reply": "2024-06-11T08:16:58.561936Z"
        },
        "trusted": true,
        "id": "izz8hTxAJetf"
      },
      "execution_count": null,
      "outputs": []
    },
    {
      "cell_type": "code",
      "source": [
        "# Define features as the columns of your DataFrame (except the target variable)\n",
        "features = df.drop('Age', axis=1)  # Assuming 'prices' is your target variable\n",
        "\n",
        "# Now you can split your data into training and testing sets\n",
        "X_train, X_test = train_test_split(features, test_size=0.2, random_state=42)"
      ],
      "metadata": {
        "execution": {
          "iopub.status.busy": "2024-06-11T08:16:58.56557Z",
          "iopub.execute_input": "2024-06-11T08:16:58.566638Z",
          "iopub.status.idle": "2024-06-11T08:16:58.574775Z",
          "shell.execute_reply.started": "2024-06-11T08:16:58.566604Z",
          "shell.execute_reply": "2024-06-11T08:16:58.573283Z"
        },
        "trusted": true,
        "id": "HhbJkLpKJetg"
      },
      "execution_count": null,
      "outputs": []
    },
    {
      "cell_type": "markdown",
      "source": [
        "> # **Data Preprocessing and Feature Selection**\n",
        "\n",
        "**Selects relevant features for clustering and standardizes the selected features using StandardScaler.**"
      ],
      "metadata": {
        "id": "Le2ogN7uJetg"
      }
    },
    {
      "cell_type": "code",
      "source": [
        "# Selecting the features for clustering\n",
        "features = df[['Age', 'Annual Income (k$)', 'Spending Score (1-100)']]"
      ],
      "metadata": {
        "execution": {
          "iopub.status.busy": "2024-06-11T08:16:58.577023Z",
          "iopub.execute_input": "2024-06-11T08:16:58.577481Z",
          "iopub.status.idle": "2024-06-11T08:16:58.588143Z",
          "shell.execute_reply.started": "2024-06-11T08:16:58.577447Z",
          "shell.execute_reply": "2024-06-11T08:16:58.587008Z"
        },
        "trusted": true,
        "id": "ithc4yHaJetg"
      },
      "execution_count": null,
      "outputs": []
    },
    {
      "cell_type": "code",
      "source": [
        "from sklearn.preprocessing import LabelEncoder\n",
        "\n",
        "# Assuming 'gender' is the column with categorical data\n",
        "le = LabelEncoder()\n",
        "X_train['Gender'] = le.fit_transform(X_train['Gender'])\n",
        "X_test['Gender'] = le.transform(X_test['Gender'])\n",
        "\n",
        "from sklearn.preprocessing import StandardScaler\n",
        "\n",
        "scaler = StandardScaler()\n",
        "X_train_scaled = scaler.fit_transform(X_train)\n",
        "X_test_scaled = scaler.transform(X_test)"
      ],
      "metadata": {
        "execution": {
          "iopub.status.busy": "2024-06-11T08:16:58.589905Z",
          "iopub.execute_input": "2024-06-11T08:16:58.590354Z",
          "iopub.status.idle": "2024-06-11T08:16:58.6092Z",
          "shell.execute_reply.started": "2024-06-11T08:16:58.590315Z",
          "shell.execute_reply": "2024-06-11T08:16:58.608024Z"
        },
        "trusted": true,
        "id": "7ovVE2EUJetg"
      },
      "execution_count": null,
      "outputs": []
    },
    {
      "cell_type": "markdown",
      "source": [
        "> # **Determine Optimal Number of Clusters and Apply K-means Clustering**\n",
        "\n",
        "**Determines the optimal number of clusters using the Elbow method and applies K-means clustering with the chosen number of clusters to the standardized features.**"
      ],
      "metadata": {
        "id": "we3XVg1WJetg"
      }
    },
    {
      "cell_type": "code",
      "source": [
        "scaled_features = X_train_scaled\n",
        "scaled_features = np.vstack((X_train_scaled, X_test_scaled))\n",
        "wcss = []\n",
        "for i in range(1, 11):\n",
        "    kmeans = KMeans(n_clusters=i, init='k-means++', max_iter=300, n_init=10, random_state=0)\n",
        "    kmeans.fit(scaled_features)\n",
        "    wcss.append(kmeans.inertia_)"
      ],
      "metadata": {
        "execution": {
          "iopub.status.busy": "2024-06-11T08:16:58.611054Z",
          "iopub.execute_input": "2024-06-11T08:16:58.611567Z",
          "iopub.status.idle": "2024-06-11T08:16:58.845883Z",
          "shell.execute_reply.started": "2024-06-11T08:16:58.611483Z",
          "shell.execute_reply": "2024-06-11T08:16:58.844832Z"
        },
        "trusted": true,
        "id": "Ub2yv6s0Jetg"
      },
      "execution_count": null,
      "outputs": []
    },
    {
      "cell_type": "code",
      "source": [
        "# Plot the Elbow method graph\n",
        "plt.figure(figsize=(10, 6))\n",
        "plt.plot(range(1, 11), wcss, marker='o', linestyle='--')\n",
        "plt.title('Elbow Method')\n",
        "plt.xlabel('Number of clusters')\n",
        "plt.ylabel('WCSS')  # Within-cluster sum of squares\n",
        "plt.show()"
      ],
      "metadata": {
        "execution": {
          "iopub.status.busy": "2024-06-11T08:16:58.849805Z",
          "iopub.execute_input": "2024-06-11T08:16:58.850787Z",
          "iopub.status.idle": "2024-06-11T08:16:59.17107Z",
          "shell.execute_reply.started": "2024-06-11T08:16:58.850752Z",
          "shell.execute_reply": "2024-06-11T08:16:59.169481Z"
        },
        "trusted": true,
        "id": "tR7AmgjIJetg"
      },
      "execution_count": null,
      "outputs": []
    },
    {
      "cell_type": "code",
      "source": [
        "# Based on the elbow method, choose the optimal number of clusters\n",
        "optimal_clusters = 5"
      ],
      "metadata": {
        "execution": {
          "iopub.status.busy": "2024-06-11T08:16:59.173058Z",
          "iopub.execute_input": "2024-06-11T08:16:59.173754Z",
          "iopub.status.idle": "2024-06-11T08:16:59.178785Z",
          "shell.execute_reply.started": "2024-06-11T08:16:59.173714Z",
          "shell.execute_reply": "2024-06-11T08:16:59.177557Z"
        },
        "trusted": true,
        "id": "Jt_zn07fJeth"
      },
      "execution_count": null,
      "outputs": []
    },
    {
      "cell_type": "code",
      "source": [
        "# Apply K-means clustering with the optimal number of clusters\n",
        "kmeans = KMeans(n_clusters=optimal_clusters, init='k-means++', max_iter=300, n_init=10, random_state=0)\n",
        "cluster_labels = kmeans.fit_predict(scaled_features)"
      ],
      "metadata": {
        "execution": {
          "iopub.status.busy": "2024-06-11T08:16:59.180094Z",
          "iopub.execute_input": "2024-06-11T08:16:59.180419Z",
          "iopub.status.idle": "2024-06-11T08:16:59.27085Z",
          "shell.execute_reply.started": "2024-06-11T08:16:59.180392Z",
          "shell.execute_reply": "2024-06-11T08:16:59.26959Z"
        },
        "trusted": true,
        "id": "At2YetSDJeth"
      },
      "execution_count": null,
      "outputs": []
    },
    {
      "cell_type": "code",
      "source": [
        "# Apply K-means clustering to the training data with the optimal number of clusters\n",
        "kmeans = KMeans(n_clusters=optimal_clusters, init='k-means++', max_iter=300, n_init=10, random_state=0)\n",
        "train_cluster_labels = kmeans.fit_predict(X_train_scaled)"
      ],
      "metadata": {
        "execution": {
          "iopub.status.busy": "2024-06-11T08:16:59.276317Z",
          "iopub.execute_input": "2024-06-11T08:16:59.277266Z",
          "iopub.status.idle": "2024-06-11T08:16:59.317905Z",
          "shell.execute_reply.started": "2024-06-11T08:16:59.277217Z",
          "shell.execute_reply": "2024-06-11T08:16:59.316899Z"
        },
        "trusted": true,
        "id": "hKQag8NvJeth"
      },
      "execution_count": null,
      "outputs": []
    },
    {
      "cell_type": "code",
      "source": [
        "# Train a KMeans model on the training data\n",
        "kmeans = KMeans(n_clusters=optimal_clusters, init='k-means++', max_iter=300, n_init=10, random_state=0)\n",
        "kmeans.fit(X_train_scaled)\n",
        "\n",
        "# Predict cluster labels for the training data\n",
        "train_cluster_labels = kmeans.labels_\n",
        "\n",
        "# Predict cluster labels for the test data\n",
        "test_cluster_labels = kmeans.predict(X_test_scaled)"
      ],
      "metadata": {
        "execution": {
          "iopub.status.busy": "2024-06-11T08:16:59.319382Z",
          "iopub.execute_input": "2024-06-11T08:16:59.323562Z",
          "iopub.status.idle": "2024-06-11T08:16:59.356015Z",
          "shell.execute_reply.started": "2024-06-11T08:16:59.323483Z",
          "shell.execute_reply": "2024-06-11T08:16:59.354734Z"
        },
        "trusted": true,
        "id": "9jtuMWlOJeth"
      },
      "execution_count": null,
      "outputs": []
    },
    {
      "cell_type": "code",
      "source": [
        "# Add cluster labels to the original data\n",
        "X_train['Cluster'] = train_cluster_labels\n",
        "X_test['Cluster'] = test_cluster_labels"
      ],
      "metadata": {
        "execution": {
          "iopub.status.busy": "2024-06-11T08:16:59.360854Z",
          "iopub.execute_input": "2024-06-11T08:16:59.36148Z",
          "iopub.status.idle": "2024-06-11T08:16:59.37177Z",
          "shell.execute_reply.started": "2024-06-11T08:16:59.361445Z",
          "shell.execute_reply": "2024-06-11T08:16:59.370571Z"
        },
        "trusted": true,
        "id": "ET6NATEYJeth"
      },
      "execution_count": null,
      "outputs": []
    },
    {
      "cell_type": "code",
      "source": [
        "# Train a KMeans model on the training data\n",
        "kmeans = KMeans(n_clusters=optimal_clusters, init='k-means++', max_iter=300, n_init=10, random_state=0)\n",
        "kmeans.fit(X_train_scaled)\n",
        "\n",
        "# Predict cluster labels for the training data\n",
        "train_cluster_labels = kmeans.labels_\n",
        "\n",
        "# Predict cluster labels for the test data\n",
        "test_cluster_labels = kmeans.predict(X_test_scaled)\n",
        "\n",
        "# Print the count of customers in each cluster\n",
        "print(\"Training Data:\")\n",
        "print(pd.Series(train_cluster_labels).value_counts())\n",
        "\n",
        "print(\"\\nTest Data:\")\n",
        "print(pd.Series(test_cluster_labels).value_counts())"
      ],
      "metadata": {
        "execution": {
          "iopub.status.busy": "2024-06-11T08:16:59.373592Z",
          "iopub.execute_input": "2024-06-11T08:16:59.374041Z",
          "iopub.status.idle": "2024-06-11T08:16:59.408972Z",
          "shell.execute_reply.started": "2024-06-11T08:16:59.374001Z",
          "shell.execute_reply": "2024-06-11T08:16:59.407668Z"
        },
        "trusted": true,
        "id": "7yCc5DOtJeth"
      },
      "execution_count": null,
      "outputs": []
    },
    {
      "cell_type": "code",
      "source": [
        "# Visualize the clusters (assuming 3D plot for Age, Annual Income, and Spending Score)\n",
        "from mpl_toolkits.mplot3d import Axes3D"
      ],
      "metadata": {
        "execution": {
          "iopub.status.busy": "2024-06-11T08:16:59.410692Z",
          "iopub.execute_input": "2024-06-11T08:16:59.411503Z",
          "iopub.status.idle": "2024-06-11T08:16:59.416768Z",
          "shell.execute_reply.started": "2024-06-11T08:16:59.411463Z",
          "shell.execute_reply": "2024-06-11T08:16:59.415471Z"
        },
        "trusted": true,
        "id": "piymc1uEJeth"
      },
      "execution_count": null,
      "outputs": []
    },
    {
      "cell_type": "code",
      "source": [
        "fig = plt.figure(figsize=(12, 8))\n",
        "plt.title(\"Customer Segmentation\", fontsize = 15)\n",
        "ax = fig.add_subplot(111, projection='3d')\n",
        "ax.scatter(features['Age'], features['Annual Income (k$)'], features['Spending Score (1-100)'], c=cluster_labels, cmap='viridis', s=60)\n",
        "ax.set_xlabel('Age')\n",
        "ax.set_ylabel('Annual Income (k$)')\n",
        "ax.set_zlabel('Spending Score (1-100)')\n",
        "plt.show()"
      ],
      "metadata": {
        "execution": {
          "iopub.status.busy": "2024-06-11T08:16:59.418754Z",
          "iopub.execute_input": "2024-06-11T08:16:59.419393Z",
          "iopub.status.idle": "2024-06-11T08:16:59.912525Z",
          "shell.execute_reply.started": "2024-06-11T08:16:59.419352Z",
          "shell.execute_reply": "2024-06-11T08:16:59.911364Z"
        },
        "trusted": true,
        "id": "kzlzwRhLJeti"
      },
      "execution_count": null,
      "outputs": []
    },
    {
      "cell_type": "code",
      "source": [
        "# Assume that you want to cluster based on the 'Age', 'Annual Income (k$)', and 'Spending Score (1-100)' columns\n",
        "kmeans = KMeans(n_clusters=5)  # Replace 5 with the number of clusters you want\n",
        "kmeans.fit(df[['Age', 'Annual Income (k$)', 'Spending Score (1-100)']])\n",
        "\n",
        "# Generate cluster labels\n",
        "train_cluster_labels = kmeans.labels_\n",
        "\n",
        "# Check the length of the cluster labels\n",
        "print(len(train_cluster_labels))\n",
        "\n",
        "# Check the shape of your dataframe\n",
        "print(df.shape)\n",
        "\n",
        "# If the lengths don't match, you can try to slice your dataframe to match the length of the cluster labels\n",
        "if len(train_cluster_labels) < df.shape[0]:\n",
        "    df = df.head(len(train_cluster_labels))\n",
        "\n",
        "# Now you can assign the cluster labels to a new column in your dataframe\n",
        "df['Cluster'] = train_cluster_labels\n",
        "\n",
        "# Now you can create the pairplot\n",
        "import seaborn as sns\n",
        "import matplotlib.pyplot as plt\n",
        "\n",
        "sns.pairplot(df, vars=['Age', 'Annual Income (k$)', 'Spending Score (1-100)'], hue='Cluster', palette='viridis', diag_kind='kde')\n",
        "plt.suptitle('Pairplot for Customer Segmentation')\n",
        "plt.show()"
      ],
      "metadata": {
        "execution": {
          "iopub.status.busy": "2024-06-11T08:16:59.913973Z",
          "iopub.execute_input": "2024-06-11T08:16:59.914284Z",
          "iopub.status.idle": "2024-06-11T08:17:04.300881Z",
          "shell.execute_reply.started": "2024-06-11T08:16:59.914255Z",
          "shell.execute_reply": "2024-06-11T08:17:04.299414Z"
        },
        "trusted": true,
        "id": "-k9VrMTDJeti"
      },
      "execution_count": null,
      "outputs": []
    },
    {
      "cell_type": "code",
      "source": [
        "for feature in features.columns:\n",
        "    plt.figure(figsize=(8, 6))\n",
        "    sns.boxplot(x='Cluster', y=feature, data=df, palette='viridis')\n",
        "    plt.title(f'Cluster-wise Distribution of {feature}')\n",
        "    plt.show()"
      ],
      "metadata": {
        "execution": {
          "iopub.status.busy": "2024-06-11T08:17:04.302372Z",
          "iopub.execute_input": "2024-06-11T08:17:04.302739Z",
          "iopub.status.idle": "2024-06-11T08:17:05.249197Z",
          "shell.execute_reply.started": "2024-06-11T08:17:04.30269Z",
          "shell.execute_reply": "2024-06-11T08:17:05.247909Z"
        },
        "trusted": true,
        "id": "_jjwfgzIJeti"
      },
      "execution_count": null,
      "outputs": []
    },
    {
      "cell_type": "code",
      "source": [
        "from sklearn.metrics import silhouette_samples  # Import silhouette_samples function\n",
        "from mpl_toolkits.mplot3d import Axes3D\n",
        "\n",
        "# Silhouette plot for evaluating cluster quality\n",
        "silhouette_vals = silhouette_samples(scaled_features, cluster_labels)\n",
        "plt.figure(figsize=(10, 6))\n",
        "y_ticks = []\n",
        "y_lower, y_upper = 0, 0\n",
        "for i, cluster in enumerate(sorted(df['Cluster'].unique())):\n",
        "    cluster_silhouette_vals = silhouette_vals[df['Cluster'] == cluster]\n",
        "    cluster_silhouette_vals.sort()\n",
        "    y_upper += len(cluster_silhouette_vals)\n",
        "    color = plt.cm.viridis(float(i) / len(df['Cluster'].unique()))\n",
        "    plt.barh(range(y_lower, y_upper), cluster_silhouette_vals, color=color)\n",
        "    y_ticks.append((y_lower + y_upper) / 2)\n",
        "    y_lower += len(cluster_silhouette_vals)\n",
        "silhouette_avg = np.mean(silhouette_vals)\n",
        "plt.axvline(silhouette_avg, color=\"red\", linestyle=\"--\")\n",
        "plt.yticks(y_ticks, df['Cluster'].unique())\n",
        "plt.ylabel('Cluster')\n",
        "plt.xlabel('Silhouette coefficient values')\n",
        "plt.title('Silhouette Plot for Clusters')\n",
        "plt.show()"
      ],
      "metadata": {
        "execution": {
          "iopub.status.busy": "2024-06-11T08:17:05.250779Z",
          "iopub.execute_input": "2024-06-11T08:17:05.251121Z",
          "iopub.status.idle": "2024-06-11T08:17:05.885066Z",
          "shell.execute_reply.started": "2024-06-11T08:17:05.251092Z",
          "shell.execute_reply": "2024-06-11T08:17:05.883837Z"
        },
        "trusted": true,
        "id": "K3JY1z4GJeti"
      },
      "execution_count": null,
      "outputs": []
    },
    {
      "cell_type": "code",
      "source": [
        "from sklearn.metrics import silhouette_score, silhouette_samples\n",
        "\n",
        "# Compute silhouette scores\n",
        "silhouette_avg = silhouette_score(scaled_features, cluster_labels)\n",
        "silhouette_vals = silhouette_samples(scaled_features, cluster_labels)\n",
        "\n",
        "# Print the average silhouette score\n",
        "print(f'Average Silhouette Score: {silhouette_avg:.2f}')\n",
        "\n",
        "# Print silhouette score for each sample (optional)\n",
        "for i in range(optimal_clusters):\n",
        "    cluster_silhouette_vals = silhouette_vals[cluster_labels == i]\n",
        "    print(f'Silhouette Score for Cluster {i}: {np.mean(cluster_silhouette_vals):.2f}')"
      ],
      "metadata": {
        "execution": {
          "iopub.status.busy": "2024-06-11T08:17:05.887202Z",
          "iopub.execute_input": "2024-06-11T08:17:05.887598Z",
          "iopub.status.idle": "2024-06-11T08:17:05.90219Z",
          "shell.execute_reply.started": "2024-06-11T08:17:05.887564Z",
          "shell.execute_reply": "2024-06-11T08:17:05.900758Z"
        },
        "trusted": true,
        "id": "n0a9KMLpJetm"
      },
      "execution_count": null,
      "outputs": []
    },
    {
      "cell_type": "markdown",
      "source": [
        "> # **Conclusion:**\n",
        "\n",
        "**This project successfully applied K-means clustering to group retail store customers based on their age, annual income, and spending score. The Elbow Method helped determine the optimal number of clusters, and the resulting clusters were visualized in a 3D graph. The silhouette score provided a quantitative evaluation of the clustering quality, ensuring meaningful customer segmentation. This analysis equips businesses with valuable insights into their customer base, allowing for targeted marketing strategies and personalized customer experiences. By understanding customer segments, businesses can enhance customer satisfaction and drive strategic decision-making.**"
      ],
      "metadata": {
        "id": "12nEHTXKJetm"
      }
    }
  ]
}